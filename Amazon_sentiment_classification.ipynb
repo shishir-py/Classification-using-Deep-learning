{
  "cells": [
    {
      "cell_type": "markdown",
      "metadata": {
        "id": "view-in-github",
        "colab_type": "text"
      },
      "source": [
        "<a href=\"https://colab.research.google.com/github/shishir-py/Classification-using-Deep-learning/blob/main/Amazon_sentiment_classification.ipynb\" target=\"_parent\"><img src=\"https://colab.research.google.com/assets/colab-badge.svg\" alt=\"Open In Colab\"/></a>"
      ]
    },
    {
      "cell_type": "code",
      "execution_count": null,
      "metadata": {
        "colab": {
          "base_uri": "https://localhost:8080/"
        },
        "id": "NZ7_S0WL4Hmf",
        "outputId": "e438ff87-af0d-4ed6-c116-1e41143c0e55"
      },
      "outputs": [
        {
          "name": "stdout",
          "output_type": "stream",
          "text": [
            "['.config', 'drive', 'sample_data']\n"
          ]
        }
      ],
      "source": [
        "import os\n",
        "path=os.listdir()\n",
        "print(path)\n",
        "import numpy as np\n",
        "import bz2\n",
        "import re"
      ]
    },
    {
      "cell_type": "code",
      "execution_count": null,
      "metadata": {
        "id": "bUjiyE_L4WBJ"
      },
      "outputs": [],
      "source": [
        "train_path=\"/content/drive/MyDrive/Colab Notebooks/Project/Review/sentiment analysis/train.ft.txt.bz2\"\n",
        "test_path=\"/content/drive/MyDrive/Colab Notebooks/Project/Review/sentiment analysis/test.ft.txt.bz2\""
      ]
    },
    {
      "cell_type": "code",
      "execution_count": null,
      "metadata": {
        "id": "bVAVoayCH39D"
      },
      "outputs": [],
      "source": [
        "def read_data(file_path):\n",
        "    data = []\n",
        "    with bz2.BZ2File(file_path) as file:\n",
        "        for line in file:\n",
        "            line = line.decode('utf-8')\n",
        "            label, text = line.strip().split(\" \", 1)\n",
        "            text = re.sub(r\"[^a-zA-Z0-9\\s]\", \"\", text).lower()\n",
        "            data.append((int(label[-1]), text))\n",
        "    return data\n",
        "\n",
        "train_data1 = read_data(train_path)\n",
        "test_data1 = read_data(test_path)\n"
      ]
    },
    {
      "cell_type": "code",
      "execution_count": null,
      "metadata": {
        "colab": {
          "base_uri": "https://localhost:8080/"
        },
        "id": "TzPKEyPaITcl",
        "outputId": "4de32660-225e-4946-efe1-4c3e15fd9d9b"
      },
      "outputs": [
        {
          "data": {
            "text/plain": [
              "(2,\n",
              " 'stuning even for the nongamer this sound track was beautiful it paints the senery in your mind so well i would recomend it even to people who hate vid game music i have played the game chrono cross but out of all of the games i have ever played it has the best music it backs away from crude keyboarding and takes a fresher step with grate guitars and soulful orchestras it would impress anyone who cares to listen ')"
            ]
          },
          "execution_count": 4,
          "metadata": {},
          "output_type": "execute_result"
        }
      ],
      "source": [
        "train_data1[0]"
      ]
    },
    {
      "cell_type": "code",
      "execution_count": null,
      "metadata": {
        "colab": {
          "base_uri": "https://localhost:8080/"
        },
        "id": "MA7L-7cbKB2Y",
        "outputId": "3b4973b9-b56e-4be4-8297-5259f6c0611c"
      },
      "outputs": [
        {
          "name": "stderr",
          "output_type": "stream",
          "text": [
            "[nltk_data] Downloading package stopwords to /root/nltk_data...\n",
            "[nltk_data]   Unzipping corpora/stopwords.zip.\n"
          ]
        },
        {
          "data": {
            "text/plain": [
              "True"
            ]
          },
          "execution_count": 5,
          "metadata": {},
          "output_type": "execute_result"
        }
      ],
      "source": [
        "import pandas as pd\n",
        "import nltk\n",
        "from nltk.corpus import stopwords\n",
        "from sklearn.model_selection import train_test_split\n",
        "from sklearn.feature_extraction.text import CountVectorizer, TfidfVectorizer\n",
        "from sklearn.metrics import accuracy_score, confusion_matrix\n",
        "from sklearn.naive_bayes import MultinomialNB\n",
        "train_df = pd.DataFrame(train_data1, columns=[\"label\", \"text\"])\n",
        "test_df = pd.DataFrame(test_data1, columns=[\"label\", \"text\"])\n",
        "\n",
        "nltk.download('stopwords')\n"
      ]
    },
    {
      "cell_type": "code",
      "execution_count": null,
      "metadata": {
        "id": "K3PoBdoNWdmh"
      },
      "outputs": [],
      "source": [
        "# Define function to remove stopwords\n",
        "stop_words = set(stopwords.words('english'))\n",
        "def remove_stopwords(text):\n",
        "    words = [word for word in text.split() if word.lower() not in stop_words]\n",
        "    return \" \".join(words)"
      ]
    },
    {
      "cell_type": "code",
      "execution_count": null,
      "metadata": {
        "colab": {
          "base_uri": "https://localhost:8080/"
        },
        "id": "xJlnfcp2I2xh",
        "outputId": "4b6a323b-162e-4d14-f82e-04c89e63fa08"
      },
      "outputs": [
        {
          "name": "stdout",
          "output_type": "stream",
          "text": [
            "Accuracy: 0.8505275\n",
            "Confusion matrix:\n",
            " [[172327  27673]\n",
            " [ 32116 167884]]\n"
          ]
        }
      ],
      "source": [
        "\n",
        "\n",
        "# Remove stopwords from text\n",
        "train_df[\"text\"] = train_df[\"text\"].apply(lambda x: remove_stopwords(x))\n",
        "test_df[\"text\"] = test_df[\"text\"].apply(lambda x: remove_stopwords(x))\n",
        "\n",
        "# Define vectorizer and fit on training data\n",
        "vectorizer = CountVectorizer()\n",
        "vectorizer.fit(train_df[\"text\"])\n",
        "\n",
        "# Transform training and test data\n",
        "train_x = vectorizer.transform(train_df[\"text\"])\n",
        "test_x = vectorizer.transform(test_df[\"text\"])\n",
        "train_y = train_df[\"label\"]\n",
        "test_y = test_df[\"label\"]\n",
        "\n",
        "# Train and test model\n",
        "clf = MultinomialNB()\n",
        "clf.fit(train_x, train_y)\n",
        "predicted_y = clf.predict(test_x)\n",
        "\n",
        "# Print accuracy score and confusion matrix\n",
        "accuracy = accuracy_score(test_y, predicted_y)\n",
        "print(\"Accuracy:\", accuracy)\n",
        "conf_mat = confusion_matrix(test_y, predicted_y)\n",
        "print(\"Confusion matrix:\\n\", conf_mat)"
      ]
    },
    {
      "cell_type": "code",
      "execution_count": null,
      "metadata": {
        "colab": {
          "background_save": true
        },
        "id": "Zevy88P2KR96",
        "outputId": "acfb4603-f887-4faa-e099-fd5a49c4a30e"
      },
      "outputs": [
        {
          "name": "stderr",
          "output_type": "stream",
          "text": [
            "/usr/local/lib/python3.10/dist-packages/sklearn/linear_model/_logistic.py:458: ConvergenceWarning: lbfgs failed to converge (status=1):\n",
            "STOP: TOTAL NO. of ITERATIONS REACHED LIMIT.\n",
            "\n",
            "Increase the number of iterations (max_iter) or scale the data as shown in:\n",
            "    https://scikit-learn.org/stable/modules/preprocessing.html\n",
            "Please also refer to the documentation for alternative solver options:\n",
            "    https://scikit-learn.org/stable/modules/linear_model.html#logistic-regression\n",
            "  n_iter_i = _check_optimize_result(\n"
          ]
        },
        {
          "name": "stdout",
          "output_type": "stream",
          "text": [
            "Accuracy: 0.89953\n",
            "Confusion matrix:\n",
            " [[178955  21045]\n",
            " [ 19143 180857]]\n"
          ]
        }
      ],
      "source": [
        "\n",
        "from sklearn.linear_model import LogisticRegression\n",
        "# Remove stopwords from text\n",
        "train_df[\"text\"] = train_df[\"text\"].apply(lambda x: remove_stopwords(x))\n",
        "test_df[\"text\"] = test_df[\"text\"].apply(lambda x: remove_stopwords(x))\n",
        "\n",
        "# Define vectorizer and fit on training data\n",
        "vectorizer = CountVectorizer()\n",
        "vectorizer.fit(train_df[\"text\"])\n",
        "\n",
        "# Transform training and test data\n",
        "train_x = vectorizer.transform(train_df[\"text\"])\n",
        "test_x = vectorizer.transform(test_df[\"text\"])\n",
        "train_y = train_df[\"label\"]\n",
        "test_y = test_df[\"label\"]\n",
        "\n",
        "# Train and test model\n",
        "lr = LogisticRegression(max_iter=500)\n",
        "lr.fit(train_x, train_y)\n",
        "predicted_y = lr.predict(test_x)\n",
        "\n",
        "# Print accuracy score and confusion matrix\n",
        "accuracy = accuracy_score(test_y, predicted_y)\n",
        "print(\"Accuracy:\", accuracy)\n",
        "conf_mat = confusion_matrix(test_y, predicted_y)\n",
        "print(\"Confusion matrix:\\n\", conf_mat)"
      ]
    },
    {
      "cell_type": "code",
      "execution_count": null,
      "metadata": {
        "id": "5kd4fO14K5Rn"
      },
      "outputs": [],
      "source": []
    }
  ],
  "metadata": {
    "colab": {
      "provenance": [],
      "mount_file_id": "1FleD3g2yujqhqOindTt7tSxfBpja_gk5",
      "authorship_tag": "ABX9TyPN/+kwEkpweJklY9wiQDOR",
      "include_colab_link": true
    },
    "gpuClass": "standard",
    "kernelspec": {
      "display_name": "Python 3",
      "name": "python3"
    },
    "language_info": {
      "name": "python"
    }
  },
  "nbformat": 4,
  "nbformat_minor": 0
}