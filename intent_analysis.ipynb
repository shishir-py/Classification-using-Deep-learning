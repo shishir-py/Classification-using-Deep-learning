{
  "nbformat": 4,
  "nbformat_minor": 0,
  "metadata": {
    "colab": {
      "provenance": [],
      "mount_file_id": "1TMalbOI1HgFzJGvzUCnoLwPCXxDC4yxY",
      "authorship_tag": "ABX9TyNQnRJppNkueknP8OwXM/gr",
      "include_colab_link": true
    },
    "kernelspec": {
      "name": "python3",
      "display_name": "Python 3"
    },
    "language_info": {
      "name": "python"
    }
  },
  "cells": [
    {
      "cell_type": "markdown",
      "metadata": {
        "id": "view-in-github",
        "colab_type": "text"
      },
      "source": [
        "<a href=\"https://colab.research.google.com/github/shishir-py/Classification-using-Deep-learning/blob/main/intent_analysis.ipynb\" target=\"_parent\"><img src=\"https://colab.research.google.com/assets/colab-badge.svg\" alt=\"Open In Colab\"/></a>"
      ]
    },
    {
      "cell_type": "code",
      "execution_count": 9,
      "metadata": {
        "id": "Qy_oice_qUpW"
      },
      "outputs": [],
      "source": [
        "import pandas as pd\n",
        "train_path=\"/content/drive/MyDrive/Colab Notebooks/Project/Review/intent analysis/Bitext_Sample_Customer_Service_Training_Dataset.csv\"\n",
        "valid_path=\"/content/drive/MyDrive/Colab Notebooks/Project/Review/intent analysis/Bitext_Sample_Customer_Service_Validation_Dataset.csv\"\n",
        "test_data=\"/content/drive/MyDrive/Colab Notebooks/Project/Review/intent analysis/Bitext_Sample_Customer_Service_Testing_Dataset.csv\"\n",
        "df_train=pd.read_csv(train_path)\n",
        "df_test=pd.read_csv(test_data)\n",
        "df_val=pd.read_csv(valid_path)\n"
      ]
    },
    {
      "cell_type": "code",
      "source": [
        "df_train.head()"
      ],
      "metadata": {
        "colab": {
          "base_uri": "https://localhost:8080/",
          "height": 206
        },
        "id": "rGTMVHdYq32T",
        "outputId": "2ad36d6a-c5f3-4242-b735-3bb59f8d63e8"
      },
      "execution_count": 10,
      "outputs": [
        {
          "output_type": "execute_result",
          "data": {
            "text/plain": [
              "                                           utterance        intent category  \\\n",
              "0   would it be possible to cancel the order I made?  cancel_order    ORDER   \n",
              "1                                   cancelling order  cancel_order    ORDER   \n",
              "2  I need assistance canceling the last order I h...  cancel_order    ORDER   \n",
              "3            problem with canceling the order I made  cancel_order    ORDER   \n",
              "4        I don't know how to cancel the order I made  cancel_order    ORDER   \n",
              "\n",
              "  tags  \n",
              "0  BIP  \n",
              "1   BK  \n",
              "2    B  \n",
              "3    B  \n",
              "4    B  "
            ],
            "text/html": [
              "\n",
              "  <div id=\"df-a3c85112-4c2d-4d4a-9e2b-b6a54d2d47b2\">\n",
              "    <div class=\"colab-df-container\">\n",
              "      <div>\n",
              "<style scoped>\n",
              "    .dataframe tbody tr th:only-of-type {\n",
              "        vertical-align: middle;\n",
              "    }\n",
              "\n",
              "    .dataframe tbody tr th {\n",
              "        vertical-align: top;\n",
              "    }\n",
              "\n",
              "    .dataframe thead th {\n",
              "        text-align: right;\n",
              "    }\n",
              "</style>\n",
              "<table border=\"1\" class=\"dataframe\">\n",
              "  <thead>\n",
              "    <tr style=\"text-align: right;\">\n",
              "      <th></th>\n",
              "      <th>utterance</th>\n",
              "      <th>intent</th>\n",
              "      <th>category</th>\n",
              "      <th>tags</th>\n",
              "    </tr>\n",
              "  </thead>\n",
              "  <tbody>\n",
              "    <tr>\n",
              "      <th>0</th>\n",
              "      <td>would it be possible to cancel the order I made?</td>\n",
              "      <td>cancel_order</td>\n",
              "      <td>ORDER</td>\n",
              "      <td>BIP</td>\n",
              "    </tr>\n",
              "    <tr>\n",
              "      <th>1</th>\n",
              "      <td>cancelling order</td>\n",
              "      <td>cancel_order</td>\n",
              "      <td>ORDER</td>\n",
              "      <td>BK</td>\n",
              "    </tr>\n",
              "    <tr>\n",
              "      <th>2</th>\n",
              "      <td>I need assistance canceling the last order I h...</td>\n",
              "      <td>cancel_order</td>\n",
              "      <td>ORDER</td>\n",
              "      <td>B</td>\n",
              "    </tr>\n",
              "    <tr>\n",
              "      <th>3</th>\n",
              "      <td>problem with canceling the order I made</td>\n",
              "      <td>cancel_order</td>\n",
              "      <td>ORDER</td>\n",
              "      <td>B</td>\n",
              "    </tr>\n",
              "    <tr>\n",
              "      <th>4</th>\n",
              "      <td>I don't know how to cancel the order I made</td>\n",
              "      <td>cancel_order</td>\n",
              "      <td>ORDER</td>\n",
              "      <td>B</td>\n",
              "    </tr>\n",
              "  </tbody>\n",
              "</table>\n",
              "</div>\n",
              "      <button class=\"colab-df-convert\" onclick=\"convertToInteractive('df-a3c85112-4c2d-4d4a-9e2b-b6a54d2d47b2')\"\n",
              "              title=\"Convert this dataframe to an interactive table.\"\n",
              "              style=\"display:none;\">\n",
              "        \n",
              "  <svg xmlns=\"http://www.w3.org/2000/svg\" height=\"24px\"viewBox=\"0 0 24 24\"\n",
              "       width=\"24px\">\n",
              "    <path d=\"M0 0h24v24H0V0z\" fill=\"none\"/>\n",
              "    <path d=\"M18.56 5.44l.94 2.06.94-2.06 2.06-.94-2.06-.94-.94-2.06-.94 2.06-2.06.94zm-11 1L8.5 8.5l.94-2.06 2.06-.94-2.06-.94L8.5 2.5l-.94 2.06-2.06.94zm10 10l.94 2.06.94-2.06 2.06-.94-2.06-.94-.94-2.06-.94 2.06-2.06.94z\"/><path d=\"M17.41 7.96l-1.37-1.37c-.4-.4-.92-.59-1.43-.59-.52 0-1.04.2-1.43.59L10.3 9.45l-7.72 7.72c-.78.78-.78 2.05 0 2.83L4 21.41c.39.39.9.59 1.41.59.51 0 1.02-.2 1.41-.59l7.78-7.78 2.81-2.81c.8-.78.8-2.07 0-2.86zM5.41 20L4 18.59l7.72-7.72 1.47 1.35L5.41 20z\"/>\n",
              "  </svg>\n",
              "      </button>\n",
              "      \n",
              "  <style>\n",
              "    .colab-df-container {\n",
              "      display:flex;\n",
              "      flex-wrap:wrap;\n",
              "      gap: 12px;\n",
              "    }\n",
              "\n",
              "    .colab-df-convert {\n",
              "      background-color: #E8F0FE;\n",
              "      border: none;\n",
              "      border-radius: 50%;\n",
              "      cursor: pointer;\n",
              "      display: none;\n",
              "      fill: #1967D2;\n",
              "      height: 32px;\n",
              "      padding: 0 0 0 0;\n",
              "      width: 32px;\n",
              "    }\n",
              "\n",
              "    .colab-df-convert:hover {\n",
              "      background-color: #E2EBFA;\n",
              "      box-shadow: 0px 1px 2px rgba(60, 64, 67, 0.3), 0px 1px 3px 1px rgba(60, 64, 67, 0.15);\n",
              "      fill: #174EA6;\n",
              "    }\n",
              "\n",
              "    [theme=dark] .colab-df-convert {\n",
              "      background-color: #3B4455;\n",
              "      fill: #D2E3FC;\n",
              "    }\n",
              "\n",
              "    [theme=dark] .colab-df-convert:hover {\n",
              "      background-color: #434B5C;\n",
              "      box-shadow: 0px 1px 3px 1px rgba(0, 0, 0, 0.15);\n",
              "      filter: drop-shadow(0px 1px 2px rgba(0, 0, 0, 0.3));\n",
              "      fill: #FFFFFF;\n",
              "    }\n",
              "  </style>\n",
              "\n",
              "      <script>\n",
              "        const buttonEl =\n",
              "          document.querySelector('#df-a3c85112-4c2d-4d4a-9e2b-b6a54d2d47b2 button.colab-df-convert');\n",
              "        buttonEl.style.display =\n",
              "          google.colab.kernel.accessAllowed ? 'block' : 'none';\n",
              "\n",
              "        async function convertToInteractive(key) {\n",
              "          const element = document.querySelector('#df-a3c85112-4c2d-4d4a-9e2b-b6a54d2d47b2');\n",
              "          const dataTable =\n",
              "            await google.colab.kernel.invokeFunction('convertToInteractive',\n",
              "                                                     [key], {});\n",
              "          if (!dataTable) return;\n",
              "\n",
              "          const docLinkHtml = 'Like what you see? Visit the ' +\n",
              "            '<a target=\"_blank\" href=https://colab.research.google.com/notebooks/data_table.ipynb>data table notebook</a>'\n",
              "            + ' to learn more about interactive tables.';\n",
              "          element.innerHTML = '';\n",
              "          dataTable['output_type'] = 'display_data';\n",
              "          await google.colab.output.renderOutput(dataTable, element);\n",
              "          const docLink = document.createElement('div');\n",
              "          docLink.innerHTML = docLinkHtml;\n",
              "          element.appendChild(docLink);\n",
              "        }\n",
              "      </script>\n",
              "    </div>\n",
              "  </div>\n",
              "  "
            ]
          },
          "metadata": {},
          "execution_count": 10
        }
      ]
    },
    {
      "cell_type": "code",
      "source": [
        "df_train.columns"
      ],
      "metadata": {
        "colab": {
          "base_uri": "https://localhost:8080/"
        },
        "id": "gnQQ0di7q6IX",
        "outputId": "175be32f-a303-4130-eb61-8193343fd3ad"
      },
      "execution_count": 12,
      "outputs": [
        {
          "output_type": "execute_result",
          "data": {
            "text/plain": [
              "Index(['utterance', 'intent', 'category', 'tags'], dtype='object')"
            ]
          },
          "metadata": {},
          "execution_count": 12
        }
      ]
    },
    {
      "cell_type": "code",
      "source": [
        "import pandas as pd\n",
        "import numpy as np\n",
        "from sklearn.model_selection import train_test_split\n",
        "from sklearn.preprocessing import LabelEncoder\n",
        "from tensorflow.keras.preprocessing.text import Tokenizer\n",
        "from tensorflow.keras.preprocessing.sequence import pad_sequences\n",
        "from tensorflow.keras.models import Sequential\n",
        "from tensorflow.keras.layers import Embedding, Flatten, Dense\n",
        "\n",
        "\n",
        "# Split data into X and y\n",
        "X_train = df_train[\"utterance\"].values\n",
        "y_train = df_train[\"intent\"].values\n",
        "X_test = df_test[\"utterance\"].values\n",
        "y_test = df_test[\"intent\"].values\n",
        "X_val = df_val[\"utterance\"].values\n",
        "y_val = df_val[\"intent\"].values\n",
        "\n",
        "# Tokenize text\n",
        "tokenizer = Tokenizer()\n",
        "tokenizer.fit_on_texts(X_train)\n",
        "X_train = tokenizer.texts_to_sequences(X_train)\n",
        "X_test = tokenizer.texts_to_sequences(X_test)\n",
        "X_val = tokenizer.texts_to_sequences(X_val)\n",
        "\n",
        "# Pad sequences\n",
        "max_len = 100\n",
        "X_train = pad_sequences(X_train, maxlen=max_len)\n",
        "X_test = pad_sequences(X_test, maxlen=max_len)\n",
        "X_val = pad_sequences(X_val, maxlen=max_len)\n",
        "\n",
        "# Encode categorical labels\n",
        "label_encoder = LabelEncoder()\n",
        "y_train = label_encoder.fit_transform(y_train)\n",
        "y_test = label_encoder.transform(y_test)\n",
        "y_val = label_encoder.transform(y_val)\n",
        "\n",
        "# Define model\n",
        "model = Sequential()\n",
        "model.add(Embedding(input_dim=len(tokenizer.word_index)+1, output_dim=32, input_length=max_len))\n",
        "model.add(Flatten())\n",
        "model.add(Dense(16, activation=\"relu\"))\n",
        "model.add(Dense(8, activation=\"relu\"))\n",
        "model.add(Dense(len(label_encoder.classes_), activation=\"softmax\"))\n",
        "\n",
        "# Compile model\n",
        "model.compile(loss=\"sparse_categorical_crossentropy\", optimizer=\"adam\", metrics=[\"accuracy\"])\n",
        "\n",
        "# Train model\n",
        "model.fit(X_train, y_train, validation_data=(X_val, y_val), epochs=50, batch_size=64)\n",
        "\n",
        "# Evaluate model on test set\n",
        "loss, acc = model.evaluate(X_test, y_test)\n",
        "print(\"Test loss:\", loss)\n",
        "print(\"Test accuracy:\", acc)\n"
      ],
      "metadata": {
        "colab": {
          "base_uri": "https://localhost:8080/"
        },
        "id": "8ZisLtZLrCZ0",
        "outputId": "a871388b-0526-4a84-c981-3296c334c332"
      },
      "execution_count": 18,
      "outputs": [
        {
          "output_type": "stream",
          "name": "stdout",
          "text": [
            "Epoch 1/50\n",
            "103/103 [==============================] - 1s 6ms/step - loss: 3.2131 - accuracy: 0.0650 - val_loss: 2.9894 - val_accuracy: 0.1284\n",
            "Epoch 2/50\n",
            "103/103 [==============================] - 1s 7ms/step - loss: 2.4791 - accuracy: 0.2811 - val_loss: 1.9000 - val_accuracy: 0.4731\n",
            "Epoch 3/50\n",
            "103/103 [==============================] - 1s 8ms/step - loss: 1.3223 - accuracy: 0.6899 - val_loss: 0.9881 - val_accuracy: 0.7934\n",
            "Epoch 4/50\n",
            "103/103 [==============================] - 1s 8ms/step - loss: 0.7156 - accuracy: 0.8500 - val_loss: 0.6151 - val_accuracy: 0.8716\n",
            "Epoch 5/50\n",
            "103/103 [==============================] - 1s 8ms/step - loss: 0.4550 - accuracy: 0.9020 - val_loss: 0.4472 - val_accuracy: 0.8985\n",
            "Epoch 6/50\n",
            "103/103 [==============================] - 1s 9ms/step - loss: 0.3182 - accuracy: 0.9307 - val_loss: 0.3450 - val_accuracy: 0.9181\n",
            "Epoch 7/50\n",
            "103/103 [==============================] - 1s 9ms/step - loss: 0.2323 - accuracy: 0.9524 - val_loss: 0.2733 - val_accuracy: 0.9499\n",
            "Epoch 8/50\n",
            "103/103 [==============================] - 1s 8ms/step - loss: 0.1742 - accuracy: 0.9688 - val_loss: 0.2220 - val_accuracy: 0.9597\n",
            "Epoch 9/50\n",
            "103/103 [==============================] - 1s 7ms/step - loss: 0.1319 - accuracy: 0.9778 - val_loss: 0.1851 - val_accuracy: 0.9633\n",
            "Epoch 10/50\n",
            "103/103 [==============================] - 1s 7ms/step - loss: 0.1026 - accuracy: 0.9846 - val_loss: 0.1744 - val_accuracy: 0.9645\n",
            "Epoch 11/50\n",
            "103/103 [==============================] - 1s 8ms/step - loss: 0.0809 - accuracy: 0.9896 - val_loss: 0.1434 - val_accuracy: 0.9682\n",
            "Epoch 12/50\n",
            "103/103 [==============================] - 1s 8ms/step - loss: 0.0639 - accuracy: 0.9925 - val_loss: 0.1288 - val_accuracy: 0.9731\n",
            "Epoch 13/50\n",
            "103/103 [==============================] - 1s 5ms/step - loss: 0.0515 - accuracy: 0.9933 - val_loss: 0.1206 - val_accuracy: 0.9743\n",
            "Epoch 14/50\n",
            "103/103 [==============================] - 0s 4ms/step - loss: 0.0424 - accuracy: 0.9954 - val_loss: 0.1165 - val_accuracy: 0.9768\n",
            "Epoch 15/50\n",
            "103/103 [==============================] - 0s 4ms/step - loss: 0.0344 - accuracy: 0.9963 - val_loss: 0.1206 - val_accuracy: 0.9719\n",
            "Epoch 16/50\n",
            "103/103 [==============================] - 0s 4ms/step - loss: 0.0303 - accuracy: 0.9969 - val_loss: 0.1126 - val_accuracy: 0.9768\n",
            "Epoch 17/50\n",
            "103/103 [==============================] - 0s 4ms/step - loss: 0.0246 - accuracy: 0.9982 - val_loss: 0.1050 - val_accuracy: 0.9780\n",
            "Epoch 18/50\n",
            "103/103 [==============================] - 0s 5ms/step - loss: 0.0209 - accuracy: 0.9982 - val_loss: 0.1153 - val_accuracy: 0.9780\n",
            "Epoch 19/50\n",
            "103/103 [==============================] - 0s 5ms/step - loss: 0.0173 - accuracy: 0.9991 - val_loss: 0.1053 - val_accuracy: 0.9756\n",
            "Epoch 20/50\n",
            "103/103 [==============================] - 0s 4ms/step - loss: 0.0149 - accuracy: 0.9989 - val_loss: 0.1073 - val_accuracy: 0.9768\n",
            "Epoch 21/50\n",
            "103/103 [==============================] - 0s 5ms/step - loss: 0.0137 - accuracy: 0.9991 - val_loss: 0.1034 - val_accuracy: 0.9792\n",
            "Epoch 22/50\n",
            "103/103 [==============================] - 0s 5ms/step - loss: 0.0116 - accuracy: 0.9995 - val_loss: 0.1040 - val_accuracy: 0.9780\n",
            "Epoch 23/50\n",
            "103/103 [==============================] - 0s 4ms/step - loss: 0.0101 - accuracy: 0.9995 - val_loss: 0.1060 - val_accuracy: 0.9756\n",
            "Epoch 24/50\n",
            "103/103 [==============================] - 0s 4ms/step - loss: 0.0086 - accuracy: 0.9998 - val_loss: 0.1076 - val_accuracy: 0.9780\n",
            "Epoch 25/50\n",
            "103/103 [==============================] - 0s 5ms/step - loss: 0.0085 - accuracy: 0.9998 - val_loss: 0.1074 - val_accuracy: 0.9804\n",
            "Epoch 26/50\n",
            "103/103 [==============================] - 0s 5ms/step - loss: 0.0072 - accuracy: 0.9997 - val_loss: 0.1035 - val_accuracy: 0.9780\n",
            "Epoch 27/50\n",
            "103/103 [==============================] - 0s 4ms/step - loss: 0.0061 - accuracy: 0.9998 - val_loss: 0.1006 - val_accuracy: 0.9792\n",
            "Epoch 28/50\n",
            "103/103 [==============================] - 1s 5ms/step - loss: 0.0052 - accuracy: 1.0000 - val_loss: 0.1054 - val_accuracy: 0.9780\n",
            "Epoch 29/50\n",
            "103/103 [==============================] - 0s 4ms/step - loss: 0.0047 - accuracy: 1.0000 - val_loss: 0.1042 - val_accuracy: 0.9780\n",
            "Epoch 30/50\n",
            "103/103 [==============================] - 1s 5ms/step - loss: 0.0043 - accuracy: 1.0000 - val_loss: 0.1061 - val_accuracy: 0.9792\n",
            "Epoch 31/50\n",
            "103/103 [==============================] - 0s 4ms/step - loss: 0.0038 - accuracy: 1.0000 - val_loss: 0.1069 - val_accuracy: 0.9780\n",
            "Epoch 32/50\n",
            "103/103 [==============================] - 0s 5ms/step - loss: 0.0033 - accuracy: 1.0000 - val_loss: 0.1096 - val_accuracy: 0.9780\n",
            "Epoch 33/50\n",
            "103/103 [==============================] - 0s 5ms/step - loss: 0.0031 - accuracy: 1.0000 - val_loss: 0.1049 - val_accuracy: 0.9804\n",
            "Epoch 34/50\n",
            "103/103 [==============================] - 1s 7ms/step - loss: 0.0028 - accuracy: 1.0000 - val_loss: 0.1087 - val_accuracy: 0.9804\n",
            "Epoch 35/50\n",
            "103/103 [==============================] - 1s 8ms/step - loss: 0.0026 - accuracy: 1.0000 - val_loss: 0.1092 - val_accuracy: 0.9804\n",
            "Epoch 36/50\n",
            "103/103 [==============================] - 1s 8ms/step - loss: 0.0023 - accuracy: 1.0000 - val_loss: 0.1083 - val_accuracy: 0.9817\n",
            "Epoch 37/50\n",
            "103/103 [==============================] - 1s 8ms/step - loss: 0.0022 - accuracy: 1.0000 - val_loss: 0.1060 - val_accuracy: 0.9792\n",
            "Epoch 38/50\n",
            "103/103 [==============================] - 1s 8ms/step - loss: 0.0020 - accuracy: 1.0000 - val_loss: 0.1104 - val_accuracy: 0.9780\n",
            "Epoch 39/50\n",
            "103/103 [==============================] - 1s 7ms/step - loss: 0.0018 - accuracy: 1.0000 - val_loss: 0.1102 - val_accuracy: 0.9768\n",
            "Epoch 40/50\n",
            "103/103 [==============================] - 0s 4ms/step - loss: 0.0017 - accuracy: 1.0000 - val_loss: 0.1142 - val_accuracy: 0.9804\n",
            "Epoch 41/50\n",
            "103/103 [==============================] - 0s 5ms/step - loss: 0.0015 - accuracy: 1.0000 - val_loss: 0.1156 - val_accuracy: 0.9780\n",
            "Epoch 42/50\n",
            "103/103 [==============================] - 0s 4ms/step - loss: 0.0014 - accuracy: 1.0000 - val_loss: 0.1141 - val_accuracy: 0.9792\n",
            "Epoch 43/50\n",
            "103/103 [==============================] - 0s 5ms/step - loss: 0.0013 - accuracy: 1.0000 - val_loss: 0.1162 - val_accuracy: 0.9768\n",
            "Epoch 44/50\n",
            "103/103 [==============================] - 0s 4ms/step - loss: 0.0012 - accuracy: 1.0000 - val_loss: 0.1181 - val_accuracy: 0.9756\n",
            "Epoch 45/50\n",
            "103/103 [==============================] - 0s 5ms/step - loss: 0.0011 - accuracy: 1.0000 - val_loss: 0.1165 - val_accuracy: 0.9804\n",
            "Epoch 46/50\n",
            "103/103 [==============================] - 0s 5ms/step - loss: 0.0010 - accuracy: 1.0000 - val_loss: 0.1216 - val_accuracy: 0.9792\n",
            "Epoch 47/50\n",
            "103/103 [==============================] - 1s 5ms/step - loss: 9.3535e-04 - accuracy: 1.0000 - val_loss: 0.1183 - val_accuracy: 0.9780\n",
            "Epoch 48/50\n",
            "103/103 [==============================] - 0s 5ms/step - loss: 8.2016e-04 - accuracy: 1.0000 - val_loss: 0.1213 - val_accuracy: 0.9780\n",
            "Epoch 49/50\n",
            "103/103 [==============================] - 1s 5ms/step - loss: 7.9382e-04 - accuracy: 1.0000 - val_loss: 0.1200 - val_accuracy: 0.9804\n",
            "Epoch 50/50\n",
            "103/103 [==============================] - 0s 4ms/step - loss: 7.5210e-04 - accuracy: 1.0000 - val_loss: 0.1282 - val_accuracy: 0.9756\n",
            "26/26 [==============================] - 0s 2ms/step - loss: 0.1047 - accuracy: 0.9853\n",
            "Test loss: 0.10467089712619781\n",
            "Test accuracy: 0.9853300452232361\n"
          ]
        }
      ]
    },
    {
      "cell_type": "code",
      "source": [
        "# Tokenize and pad test data\n",
        "X_test = tokenizer.texts_to_sequences(df_test[\"utterance\"].values)\n",
        "X_test = pad_sequences(X_test, maxlen=max_len)\n",
        "\n",
        "# Predict on test data\n",
        "y_pred = model.predict(X_test)\n",
        "\n",
        "# Decode categorical labels\n",
        "y_pred = np.argmax(y_pred, axis=1)\n",
        "y_pred = label_encoder.inverse_transform(y_pred)\n",
        "\n",
        "# Print predicted labels\n",
        "print(y_pred)\n"
      ],
      "metadata": {
        "colab": {
          "base_uri": "https://localhost:8080/"
        },
        "id": "P-hTNSS37cyP",
        "outputId": "dccb15b9-e326-49ad-daf0-5cb1228912c9"
      },
      "execution_count": 29,
      "outputs": [
        {
          "output_type": "stream",
          "name": "stdout",
          "text": [
            "26/26 [==============================] - 0s 2ms/step\n",
            "['cancel_order' 'cancel_order' 'cancel_order' 'cancel_order'\n",
            " 'cancel_order' 'cancel_order' 'cancel_order' 'cancel_order'\n",
            " 'cancel_order' 'cancel_order' 'cancel_order' 'cancel_order'\n",
            " 'cancel_order' 'cancel_order' 'cancel_order' 'cancel_order'\n",
            " 'cancel_order' 'cancel_order' 'cancel_order' 'cancel_order'\n",
            " 'change_order' 'cancel_order' 'cancel_order' 'cancel_order'\n",
            " 'cancel_order' 'change_order' 'change_order' 'change_order'\n",
            " 'change_order' 'change_order' 'switch_account' 'change_order'\n",
            " 'change_order' 'change_order' 'change_order' 'change_order'\n",
            " 'change_order' 'change_order' 'change_order' 'change_order'\n",
            " 'change_order' 'change_order' 'change_order' 'change_order'\n",
            " 'change_order' 'change_order' 'change_order' 'change_order'\n",
            " 'change_order' 'change_order' 'change_order' 'change_order'\n",
            " 'change_order' 'change_order' 'change_order' 'change_order'\n",
            " 'change_order' 'change_order' 'change_order' 'change_order'\n",
            " 'change_order' 'change_order' 'change_order' 'change_order'\n",
            " 'change_shipping_address' 'change_shipping_address'\n",
            " 'change_shipping_address' 'change_shipping_address'\n",
            " 'change_shipping_address' 'change_shipping_address'\n",
            " 'change_shipping_address' 'change_shipping_address'\n",
            " 'change_shipping_address' 'change_shipping_address'\n",
            " 'change_shipping_address' 'change_shipping_address'\n",
            " 'change_shipping_address' 'change_shipping_address' 'track_order'\n",
            " 'change_shipping_address' 'change_shipping_address'\n",
            " 'change_shipping_address' 'change_shipping_address'\n",
            " 'change_shipping_address' 'change_shipping_address'\n",
            " 'change_shipping_address' 'change_shipping_address'\n",
            " 'change_shipping_address' 'change_shipping_address'\n",
            " 'change_shipping_address' 'change_shipping_address'\n",
            " 'change_shipping_address' 'change_shipping_address'\n",
            " 'change_shipping_address' 'change_shipping_address'\n",
            " 'change_shipping_address' 'change_shipping_address'\n",
            " 'change_shipping_address' 'change_shipping_address'\n",
            " 'change_shipping_address' 'change_shipping_address'\n",
            " 'change_shipping_address' 'change_shipping_address'\n",
            " 'change_shipping_address' 'change_shipping_address'\n",
            " 'check_cancellation_fee' 'check_cancellation_fee'\n",
            " 'check_cancellation_fee' 'check_cancellation_fee'\n",
            " 'check_cancellation_fee' 'check_cancellation_fee'\n",
            " 'check_cancellation_fee' 'check_cancellation_fee'\n",
            " 'check_cancellation_fee' 'check_cancellation_fee'\n",
            " 'check_cancellation_fee' 'check_cancellation_fee'\n",
            " 'check_cancellation_fee' 'check_cancellation_fee'\n",
            " 'check_cancellation_fee' 'check_cancellation_fee'\n",
            " 'check_cancellation_fee' 'check_cancellation_fee'\n",
            " 'check_cancellation_fee' 'check_cancellation_fee'\n",
            " 'check_cancellation_fee' 'check_cancellation_fee'\n",
            " 'check_cancellation_fee' 'check_cancellation_fee'\n",
            " 'check_cancellation_fee' 'check_cancellation_fee' 'check_invoice'\n",
            " 'check_invoice' 'check_invoice' 'check_invoice' 'check_invoice'\n",
            " 'check_invoice' 'check_invoice' 'check_invoice' 'check_invoice'\n",
            " 'check_invoice' 'check_invoice' 'check_invoice' 'check_invoice'\n",
            " 'check_invoice' 'check_invoice' 'check_invoice' 'check_invoice'\n",
            " 'check_invoice' 'check_invoice' 'check_invoice' 'check_invoice'\n",
            " 'check_invoice' 'check_invoice' 'check_invoice' 'check_invoice'\n",
            " 'check_invoice' 'check_invoice' 'check_invoice' 'check_invoice'\n",
            " 'check_invoice' 'check_invoice' 'check_payment_methods'\n",
            " 'check_payment_methods' 'check_payment_methods' 'check_payment_methods'\n",
            " 'check_payment_methods' 'check_payment_methods' 'check_payment_methods'\n",
            " 'check_payment_methods' 'check_payment_methods' 'check_payment_methods'\n",
            " 'check_payment_methods' 'check_payment_methods' 'check_payment_methods'\n",
            " 'check_payment_methods' 'check_payment_methods' 'check_payment_methods'\n",
            " 'check_payment_methods' 'check_payment_methods' 'check_payment_methods'\n",
            " 'check_payment_methods' 'check_payment_methods' 'check_payment_methods'\n",
            " 'check_payment_methods' 'check_payment_methods' 'check_payment_methods'\n",
            " 'check_payment_methods' 'check_refund_policy' 'check_refund_policy'\n",
            " 'check_refund_policy' 'check_refund_policy' 'check_refund_policy'\n",
            " 'check_refund_policy' 'check_refund_policy' 'check_refund_policy'\n",
            " 'check_refund_policy' 'check_refund_policy' 'check_refund_policy'\n",
            " 'check_refund_policy' 'check_refund_policy' 'check_refund_policy'\n",
            " 'check_refund_policy' 'check_refund_policy' 'check_refund_policy'\n",
            " 'check_refund_policy' 'check_refund_policy' 'check_refund_policy'\n",
            " 'check_refund_policy' 'check_refund_policy' 'check_refund_policy'\n",
            " 'check_refund_policy' 'check_refund_policy' 'check_refund_policy'\n",
            " 'check_refund_policy' 'check_refund_policy' 'check_refund_policy'\n",
            " 'check_refund_policy' 'check_refund_policy' 'check_refund_policy'\n",
            " 'check_refund_policy' 'check_refund_policy' 'check_refund_policy'\n",
            " 'check_refund_policy' 'check_refund_policy' 'complaint' 'complaint'\n",
            " 'complaint' 'complaint' 'complaint' 'complaint' 'complaint' 'complaint'\n",
            " 'complaint' 'complaint' 'complaint' 'complaint' 'complaint' 'complaint'\n",
            " 'complaint' 'complaint' 'complaint' 'complaint' 'complaint' 'complaint'\n",
            " 'complaint' 'complaint' 'complaint' 'contact_customer_service'\n",
            " 'contact_customer_service' 'contact_customer_service'\n",
            " 'contact_customer_service' 'contact_customer_service'\n",
            " 'contact_customer_service' 'contact_customer_service'\n",
            " 'contact_customer_service' 'contact_customer_service'\n",
            " 'contact_customer_service' 'contact_customer_service'\n",
            " 'contact_customer_service' 'contact_customer_service'\n",
            " 'contact_customer_service' 'contact_customer_service'\n",
            " 'contact_customer_service' 'contact_customer_service'\n",
            " 'contact_customer_service' 'contact_customer_service'\n",
            " 'contact_customer_service' 'contact_customer_service'\n",
            " 'contact_customer_service' 'contact_customer_service'\n",
            " 'contact_customer_service' 'contact_human_agent' 'contact_human_agent'\n",
            " 'contact_human_agent' 'contact_human_agent' 'contact_human_agent'\n",
            " 'contact_human_agent' 'contact_human_agent' 'contact_human_agent'\n",
            " 'contact_human_agent' 'contact_human_agent' 'contact_human_agent'\n",
            " 'contact_human_agent' 'contact_human_agent' 'contact_human_agent'\n",
            " 'contact_human_agent' 'contact_human_agent' 'contact_human_agent'\n",
            " 'contact_human_agent' 'contact_human_agent' 'contact_human_agent'\n",
            " 'contact_human_agent' 'contact_human_agent' 'contact_human_agent'\n",
            " 'contact_human_agent' 'contact_human_agent' 'contact_human_agent'\n",
            " 'contact_human_agent' 'contact_human_agent' 'contact_human_agent'\n",
            " 'contact_human_agent' 'contact_human_agent' 'contact_human_agent'\n",
            " 'contact_human_agent' 'contact_human_agent' 'contact_human_agent'\n",
            " 'contact_human_agent' 'contact_human_agent' 'contact_human_agent'\n",
            " 'contact_human_agent' 'contact_human_agent' 'contact_human_agent'\n",
            " 'contact_human_agent' 'create_account' 'change_order' 'create_account'\n",
            " 'edit_account' 'create_account' 'create_account' 'create_account'\n",
            " 'create_account' 'create_account' 'create_account' 'recover_password'\n",
            " 'create_account' 'create_account' 'create_account' 'create_account'\n",
            " 'create_account' 'create_account' 'create_account' 'edit_account'\n",
            " 'create_account' 'create_account' 'create_account' 'create_account'\n",
            " 'create_account' 'create_account' 'delete_account' 'delete_account'\n",
            " 'delete_account' 'delete_account' 'delete_account' 'delete_account'\n",
            " 'delete_account' 'delete_account' 'delete_account' 'delete_account'\n",
            " 'delete_account' 'delete_account' 'delete_account' 'delete_account'\n",
            " 'delete_account' 'delete_account' 'delete_account' 'delete_account'\n",
            " 'delete_account' 'delete_account' 'delete_account' 'delete_account'\n",
            " 'delete_account' 'delete_account' 'delete_account' 'delete_account'\n",
            " 'delete_account' 'delete_account' 'delete_account' 'delivery_options'\n",
            " 'delivery_options' 'delivery_options' 'delivery_options'\n",
            " 'delivery_options' 'delivery_options' 'delivery_options'\n",
            " 'delivery_options' 'delivery_options' 'delivery_options'\n",
            " 'delivery_options' 'delivery_options' 'delivery_options'\n",
            " 'delivery_options' 'delivery_options' 'delivery_options'\n",
            " 'delivery_options' 'delivery_options' 'delivery_options'\n",
            " 'delivery_options' 'delivery_options' 'delivery_options'\n",
            " 'delivery_options' 'delivery_options' 'delivery_options'\n",
            " 'delivery_options' 'delivery_options' 'delivery_options'\n",
            " 'delivery_options' 'delivery_options' 'delivery_options'\n",
            " 'delivery_options' 'delivery_period' 'delivery_period' 'delivery_period'\n",
            " 'delivery_period' 'delivery_period' 'delivery_period' 'delivery_period'\n",
            " 'delivery_period' 'delivery_period' 'delivery_period' 'delivery_period'\n",
            " 'delivery_period' 'delivery_period' 'delivery_period' 'delivery_period'\n",
            " 'delivery_period' 'delivery_period' 'delivery_period' 'delivery_period'\n",
            " 'delivery_period' 'delivery_period' 'delivery_period' 'delivery_period'\n",
            " 'delivery_period' 'delivery_period' 'delivery_period' 'delivery_period'\n",
            " 'delivery_period' 'delivery_period' 'delivery_period' 'delivery_period'\n",
            " 'delivery_period' 'delivery_period' 'delivery_period' 'delivery_period'\n",
            " 'delivery_period' 'delivery_period' 'switch_account' 'edit_account'\n",
            " 'edit_account' 'edit_account' 'edit_account' 'edit_account'\n",
            " 'edit_account' 'edit_account' 'edit_account' 'edit_account'\n",
            " 'edit_account' 'edit_account' 'edit_account' 'edit_account'\n",
            " 'edit_account' 'edit_account' 'edit_account' 'edit_account'\n",
            " 'edit_account' 'edit_account' 'edit_account' 'edit_account'\n",
            " 'edit_account' 'edit_account' 'edit_account' 'edit_account'\n",
            " 'edit_account' 'edit_account' 'edit_account' 'edit_account'\n",
            " 'edit_account' 'edit_account' 'edit_account' 'edit_account'\n",
            " 'edit_account' 'edit_account' 'get_invoice' 'get_invoice' 'get_invoice'\n",
            " 'get_invoice' 'get_invoice' 'get_invoice' 'get_invoice' 'get_invoice'\n",
            " 'get_invoice' 'get_invoice' 'get_invoice' 'get_invoice' 'get_invoice'\n",
            " 'get_invoice' 'get_invoice' 'get_invoice' 'get_invoice' 'get_invoice'\n",
            " 'get_invoice' 'get_invoice' 'get_invoice' 'get_invoice' 'get_invoice'\n",
            " 'get_invoice' 'get_invoice' 'get_invoice' 'get_invoice' 'get_invoice'\n",
            " 'get_invoice' 'get_invoice' 'get_invoice' 'get_refund' 'get_refund'\n",
            " 'get_refund' 'get_refund' 'get_refund' 'get_refund' 'get_refund'\n",
            " 'get_refund' 'get_refund' 'get_refund' 'get_refund' 'get_refund'\n",
            " 'get_refund' 'get_refund' 'get_refund' 'get_refund' 'get_refund'\n",
            " 'get_refund' 'get_refund' 'get_refund' 'get_refund' 'get_refund'\n",
            " 'get_refund' 'get_refund' 'get_refund' 'get_refund' 'get_refund'\n",
            " 'get_refund' 'newsletter_subscription' 'newsletter_subscription'\n",
            " 'newsletter_subscription' 'newsletter_subscription'\n",
            " 'newsletter_subscription' 'newsletter_subscription'\n",
            " 'newsletter_subscription' 'newsletter_subscription'\n",
            " 'newsletter_subscription' 'newsletter_subscription'\n",
            " 'newsletter_subscription' 'newsletter_subscription' 'place_order'\n",
            " 'newsletter_subscription' 'newsletter_subscription'\n",
            " 'newsletter_subscription' 'newsletter_subscription'\n",
            " 'newsletter_subscription' 'newsletter_subscription'\n",
            " 'newsletter_subscription' 'newsletter_subscription'\n",
            " 'newsletter_subscription' 'newsletter_subscription' 'payment_issue'\n",
            " 'payment_issue' 'payment_issue' 'payment_issue' 'payment_issue'\n",
            " 'payment_issue' 'payment_issue' 'payment_issue' 'payment_issue'\n",
            " 'payment_issue' 'payment_issue' 'payment_issue' 'payment_issue'\n",
            " 'payment_issue' 'payment_issue' 'payment_issue' 'payment_issue'\n",
            " 'payment_issue' 'payment_issue' 'payment_issue' 'payment_issue'\n",
            " 'payment_issue' 'payment_issue' 'payment_issue' 'payment_issue'\n",
            " 'payment_issue' 'payment_issue' 'place_order' 'place_order' 'place_order'\n",
            " 'place_order' 'place_order' 'place_order' 'place_order' 'place_order'\n",
            " 'place_order' 'place_order' 'place_order' 'place_order' 'place_order'\n",
            " 'place_order' 'place_order' 'place_order' 'place_order' 'place_order'\n",
            " 'place_order' 'place_order' 'place_order' 'place_order' 'place_order'\n",
            " 'place_order' 'place_order' 'place_order' 'place_order' 'place_order'\n",
            " 'place_order' 'place_order' 'recover_password' 'recover_password'\n",
            " 'recover_password' 'recover_password' 'recover_password'\n",
            " 'recover_password' 'recover_password' 'recover_password'\n",
            " 'recover_password' 'change_order' 'recover_password' 'recover_password'\n",
            " 'recover_password' 'recover_password' 'recover_password'\n",
            " 'recover_password' 'recover_password' 'recover_password'\n",
            " 'recover_password' 'recover_password' 'registration_problems'\n",
            " 'registration_problems' 'registration_problems' 'registration_problems'\n",
            " 'registration_problems' 'registration_problems' 'registration_problems'\n",
            " 'registration_problems' 'registration_problems' 'registration_problems'\n",
            " 'registration_problems' 'registration_problems' 'registration_problems'\n",
            " 'registration_problems' 'registration_problems' 'registration_problems'\n",
            " 'registration_problems' 'registration_problems' 'registration_problems'\n",
            " 'registration_problems' 'registration_problems' 'registration_problems'\n",
            " 'registration_problems' 'registration_problems' 'registration_problems'\n",
            " 'registration_problems' 'registration_problems' 'review' 'review'\n",
            " 'review' 'review' 'review' 'review' 'review' 'review' 'review' 'review'\n",
            " 'review' 'review' 'review' 'review' 'review' 'review' 'review' 'review'\n",
            " 'review' 'review' 'review' 'review' 'review' 'review' 'review' 'review'\n",
            " 'review' 'review' 'review' 'review' 'review' 'review'\n",
            " 'set_up_shipping_address' 'set_up_shipping_address'\n",
            " 'set_up_shipping_address' 'set_up_shipping_address'\n",
            " 'set_up_shipping_address' 'set_up_shipping_address'\n",
            " 'set_up_shipping_address' 'set_up_shipping_address'\n",
            " 'set_up_shipping_address' 'set_up_shipping_address'\n",
            " 'set_up_shipping_address' 'set_up_shipping_address'\n",
            " 'set_up_shipping_address' 'set_up_shipping_address'\n",
            " 'set_up_shipping_address' 'set_up_shipping_address'\n",
            " 'set_up_shipping_address' 'set_up_shipping_address'\n",
            " 'set_up_shipping_address' 'set_up_shipping_address'\n",
            " 'set_up_shipping_address' 'set_up_shipping_address'\n",
            " 'set_up_shipping_address' 'set_up_shipping_address'\n",
            " 'set_up_shipping_address' 'set_up_shipping_address'\n",
            " 'set_up_shipping_address' 'set_up_shipping_address'\n",
            " 'set_up_shipping_address' 'set_up_shipping_address'\n",
            " 'set_up_shipping_address' 'set_up_shipping_address' 'switch_account'\n",
            " 'switch_account' 'switch_account' 'switch_account' 'switch_account'\n",
            " 'switch_account' 'switch_account' 'switch_account' 'switch_account'\n",
            " 'switch_account' 'switch_account' 'switch_account' 'switch_account'\n",
            " 'switch_account' 'switch_account' 'switch_account' 'switch_account'\n",
            " 'switch_account' 'switch_account' 'switch_account' 'switch_account'\n",
            " 'switch_account' 'switch_account' 'switch_account' 'switch_account'\n",
            " 'switch_account' 'switch_account' 'switch_account' 'switch_account'\n",
            " 'switch_account' 'switch_account' 'switch_account' 'switch_account'\n",
            " 'switch_account' 'switch_account' 'switch_account' 'track_order'\n",
            " 'track_order' 'track_order' 'track_order' 'track_order' 'track_order'\n",
            " 'track_order' 'track_order' 'track_order' 'track_order' 'track_order'\n",
            " 'track_order' 'track_order' 'track_order' 'delete_account' 'track_order'\n",
            " 'place_order' 'track_order' 'track_order' 'track_order' 'track_order'\n",
            " 'track_order' 'track_order' 'track_order' 'track_order' 'track_order'\n",
            " 'track_order' 'track_order' 'track_order' 'track_order' 'track_order'\n",
            " 'track_refund' 'track_refund' 'track_refund' 'track_refund'\n",
            " 'track_refund' 'track_refund' 'track_refund' 'track_refund'\n",
            " 'track_refund' 'track_refund' 'track_refund' 'track_refund'\n",
            " 'track_refund' 'track_refund' 'track_refund' 'track_refund'\n",
            " 'track_refund' 'track_refund' 'track_refund' 'track_refund'\n",
            " 'track_refund' 'track_refund' 'track_refund' 'track_refund'\n",
            " 'track_refund' 'track_refund' 'track_refund' 'track_refund']\n"
          ]
        }
      ]
    },
    {
      "cell_type": "code",
      "source": [
        "len(y_pred)"
      ],
      "metadata": {
        "colab": {
          "base_uri": "https://localhost:8080/"
        },
        "id": "BvU0Eosm9ee_",
        "outputId": "12701fc6-4081-416e-fdec-92b28861f6f6"
      },
      "execution_count": 30,
      "outputs": [
        {
          "output_type": "execute_result",
          "data": {
            "text/plain": [
              "818"
            ]
          },
          "metadata": {},
          "execution_count": 30
        }
      ]
    },
    {
      "cell_type": "code",
      "source": [
        "df_test.shape"
      ],
      "metadata": {
        "colab": {
          "base_uri": "https://localhost:8080/"
        },
        "id": "rg2Y6vmI-hMn",
        "outputId": "ac75015b-d6c8-4716-f865-126469a799c8"
      },
      "execution_count": 31,
      "outputs": [
        {
          "output_type": "execute_result",
          "data": {
            "text/plain": [
              "(818, 4)"
            ]
          },
          "metadata": {},
          "execution_count": 31
        }
      ]
    },
    {
      "cell_type": "code",
      "source": [
        "results_df = pd.DataFrame({\"Actual Intent\": df_test['intent'], \"Predicted Intent\": y_pred})\n",
        "print(results_df)\n"
      ],
      "metadata": {
        "colab": {
          "base_uri": "https://localhost:8080/"
        },
        "id": "jlGTVFua-we7",
        "outputId": "7b8abf93-15d6-47d3-b017-9e2e419564a5"
      },
      "execution_count": 39,
      "outputs": [
        {
          "output_type": "stream",
          "name": "stdout",
          "text": [
            "    Actual Intent Predicted Intent\n",
            "0    cancel_order     cancel_order\n",
            "1    cancel_order     cancel_order\n",
            "2    cancel_order     cancel_order\n",
            "3    cancel_order     cancel_order\n",
            "4    cancel_order     cancel_order\n",
            "..            ...              ...\n",
            "813  track_refund     track_refund\n",
            "814  track_refund     track_refund\n",
            "815  track_refund     track_refund\n",
            "816  track_refund     track_refund\n",
            "817  track_refund     track_refund\n",
            "\n",
            "[818 rows x 2 columns]\n"
          ]
        }
      ]
    },
    {
      "cell_type": "code",
      "source": [
        "values_match = results_df['Actual Intent'] == results_df['Predicted Intent']\n",
        "\n",
        "# print the results\n",
        "print(values_match)"
      ],
      "metadata": {
        "colab": {
          "base_uri": "https://localhost:8080/"
        },
        "id": "lJhViqsvAmxU",
        "outputId": "99581214-f1e9-4959-df88-33d52ae518db"
      },
      "execution_count": 41,
      "outputs": [
        {
          "output_type": "stream",
          "name": "stdout",
          "text": [
            "0      True\n",
            "1      True\n",
            "2      True\n",
            "3      True\n",
            "4      True\n",
            "       ... \n",
            "813    True\n",
            "814    True\n",
            "815    True\n",
            "816    True\n",
            "817    True\n",
            "Length: 818, dtype: bool\n"
          ]
        }
      ]
    },
    {
      "cell_type": "code",
      "source": [
        "true_count = 0\n",
        "false_count = 0\n",
        "\n",
        "for i in range(len(results_df)):\n",
        "    if results_df[\"Actual Intent\"][i] == results_df[\"Predicted Intent\"][i]:\n",
        "        true_count += 1\n",
        "    else:\n",
        "        false_count += 1\n",
        "\n",
        "print(\"Number of correct predictions:\", true_count)\n",
        "print(\"Number of incorrect predictions:\", false_count)\n"
      ],
      "metadata": {
        "colab": {
          "base_uri": "https://localhost:8080/"
        },
        "id": "WvAwM45tA0yj",
        "outputId": "247bed73-92a4-4cd4-bee5-f3444726468d"
      },
      "execution_count": 42,
      "outputs": [
        {
          "output_type": "stream",
          "name": "stdout",
          "text": [
            "Number of correct predictions: 806\n",
            "Number of incorrect predictions: 12\n"
          ]
        }
      ]
    },
    {
      "cell_type": "code",
      "source": [
        "# Save model to file\n",
        "model.save('intent_classifier.h5')\n"
      ],
      "metadata": {
        "id": "yMvjzYIvBx0S"
      },
      "execution_count": 44,
      "outputs": []
    },
    {
      "cell_type": "code",
      "source": [
        "import os\n",
        "\n",
        "print(os.getcwd())  # print current working directory\n",
        "\n",
        "# list contents of current working directory\n",
        "for file in os.listdir():\n",
        "    print(file)\n"
      ],
      "metadata": {
        "colab": {
          "base_uri": "https://localhost:8080/"
        },
        "id": "Z7DyoLJ2B6E-",
        "outputId": "a9bdf195-bb1a-41f9-e694-85f69ebf1854"
      },
      "execution_count": 45,
      "outputs": [
        {
          "output_type": "stream",
          "name": "stdout",
          "text": [
            "/content\n",
            ".config\n",
            "intent_classifier.h5\n",
            "drive\n",
            "sample_data\n"
          ]
        }
      ]
    },
    {
      "cell_type": "code",
      "source": [
        "import pickle\n",
        "\n",
        "# Save tokenizer\n",
        "with open(\"tokenizer.pkl\", \"wb\") as f:\n",
        "    pickle.dump(tokenizer, f)\n",
        "\n",
        "# Save label encoder\n",
        "with open(\"label_encoder.pkl\", \"wb\") as f:\n",
        "    pickle.dump(label_encoder, f)\n"
      ],
      "metadata": {
        "id": "PyU_iIOTCd-w"
      },
      "execution_count": 48,
      "outputs": []
    },
    {
      "cell_type": "code",
      "source": [
        "# Import necessary libraries\n",
        "from tensorflow.keras.preprocessing.sequence import pad_sequences\n",
        "from keras.models import load_model\n",
        "import pandas as pd\n",
        "import pickle\n",
        "\n",
        "# Load saved model\n",
        "model = load_model(\"/content/intent_classifier.h5\")\n",
        "\n",
        "# Load tokenizer\n",
        "with open(\"/content/tokenizer.pkl\", \"rb\") as f:\n",
        "    tokenizer = pickle.load(f)\n",
        "\n",
        "# Load label encoder\n",
        "with open(\"/content/label_encoder.pkl\", \"rb\") as f:\n",
        "    label_encoder = pickle.load(f)\n",
        "\n",
        "# Define function to make predictions\n",
        "def predict_intent(utterance):\n",
        "    # Tokenize text and pad sequence\n",
        "    seq = tokenizer.texts_to_sequences([utterance])\n",
        "    padded_seq = pad_sequences(seq, maxlen=100)\n",
        "\n",
        "    # Make prediction\n",
        "    pred = model.predict(padded_seq)[0]\n",
        "\n",
        "    # Get predicted label and confidence score\n",
        "    label = label_encoder.inverse_transform([np.argmax(pred)])[0]\n",
        "    confidence = round(np.max(pred), 4)\n",
        "\n",
        "    # Return prediction results\n",
        "    return label, confidence\n",
        "\n",
        "# Test function with sample utterance\n",
        "utterance = \"What's the trending product today?\"\n",
        "utterance1 = \"how can i cancle product?\"\n",
        "\n",
        "label, confidence = predict_intent(utterance)\n",
        "label1, confidence1 = predict_intent(utterance1)\n",
        "\n",
        "print(f\"Predicted intent: {label}, Confidence: {confidence}\")\n",
        "print(f\"Predicted intent: {label1}, Confidence: {confidence1}\")\n",
        "\n"
      ],
      "metadata": {
        "colab": {
          "base_uri": "https://localhost:8080/"
        },
        "id": "5IiDgcnt3Umi",
        "outputId": "1f9910bd-c89e-4c68-bd2a-d97afe56cc2f"
      },
      "execution_count": 51,
      "outputs": [
        {
          "output_type": "stream",
          "name": "stdout",
          "text": [
            "1/1 [==============================] - 0s 69ms/step\n",
            "1/1 [==============================] - 0s 22ms/step\n",
            "Predicted intent: place_order, Confidence: 0.7401999831199646\n",
            "Predicted intent: change_order, Confidence: 0.8996000289916992\n"
          ]
        }
      ]
    },
    {
      "cell_type": "code",
      "source": [],
      "metadata": {
        "id": "HrErx8JWPbxL"
      },
      "execution_count": null,
      "outputs": []
    }
  ]
}