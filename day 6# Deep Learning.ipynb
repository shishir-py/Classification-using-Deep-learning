{
  "nbformat": 4,
  "nbformat_minor": 0,
  "metadata": {
    "colab": {
      "provenance": [],
      "toc_visible": true,
      "authorship_tag": "ABX9TyPhKykeo+NIhkvYxHXFyR5x",
      "include_colab_link": true
    },
    "kernelspec": {
      "name": "python3",
      "display_name": "Python 3"
    },
    "language_info": {
      "name": "python"
    }
  },
  "cells": [
    {
      "cell_type": "markdown",
      "metadata": {
        "id": "view-in-github",
        "colab_type": "text"
      },
      "source": [
        "<a href=\"https://colab.research.google.com/github/shishir-py/Classification-using-Deep-learning/blob/main/day%206%23%20Deep%20Learning.ipynb\" target=\"_parent\"><img src=\"https://colab.research.google.com/assets/colab-badge.svg\" alt=\"Open In Colab\"/></a>"
      ]
    },
    {
      "cell_type": "markdown",
      "source": [
        "# Day 5 ⚡ Deep Learning Fundamentals"
      ],
      "metadata": {
        "id": "YHDc3ym84MPr"
      }
    },
    {
      "cell_type": "markdown",
      "source": [
        "**Importing Necessary Libraries and data which are preloaded with tensorflow and keras** 📖"
      ],
      "metadata": {
        "id": "Hae-3N0Z4gmU"
      }
    },
    {
      "cell_type": "code",
      "source": [
        "import tensorflow as tf\n",
        "from tensorflow.keras.datasets import cifar10\n",
        "from tensorflow.keras import layers\n",
        "from tensorflow.keras import layers\n",
        "from tensorflow.keras import Model\n",
        "from keras.utils import np_utils\n",
        "import numpy as np\n",
        "import warnings\n",
        "warnings.filterwarnings('ignore')"
      ],
      "metadata": {
        "id": "SbAi47io3w1j"
      },
      "execution_count": 1,
      "outputs": []
    },
    {
      "cell_type": "code",
      "source": [
        "batch_size=32\n",
        "num_ephocs=2\n",
        "karnel_size=3\n",
        "pool_size=(2,2)\n",
        "conv_depth_1=32\n",
        "conv_depth_2=64\n",
        "drop_prob_1=0.25\n",
        "drop_prob_2=0.5\n",
        "hidden_size=512\n",
        "input_size=(32,32,3)\n",
        "\n"
      ],
      "metadata": {
        "id": "hIzWVyrq37py"
      },
      "execution_count": 2,
      "outputs": []
    },
    {
      "cell_type": "markdown",
      "source": [
        "# splitting the data in train and test"
      ],
      "metadata": {
        "id": "Kmg3D3CA7FEi"
      }
    },
    {
      "cell_type": "code",
      "source": [
        "(x_train,y_train), (x_test,y_test)=cifar10.load_data()"
      ],
      "metadata": {
        "id": "X4qZSame5prO"
      },
      "execution_count": 3,
      "outputs": []
    },
    {
      "cell_type": "code",
      "source": [
        "from keras.utils import to_categorical\n",
        "x_train=x_train.astype('float32')/255\n",
        "x_test=x_test.astype('float32')/255\n",
        "y_train=to_categorical(y_train, num_classes=10)\n",
        "y_test=to_categorical(y_test, num_classes=10)\n",
        "\n"
      ],
      "metadata": {
        "id": "WlSUGxgV9CgC"
      },
      "execution_count": 4,
      "outputs": []
    },
    {
      "cell_type": "markdown",
      "source": [
        "# Modeling:"
      ],
      "metadata": {
        "id": "bGPbO-ncBAzV"
      }
    },
    {
      "cell_type": "code",
      "source": [
        "from keras.models import Sequential\n",
        "from keras.layers import Dense,Activation,Conv2D,Dropout,MaxPooling2D,Flatten"
      ],
      "metadata": {
        "id": "8lUedwby-Rar"
      },
      "execution_count": 5,
      "outputs": []
    },
    {
      "cell_type": "code",
      "source": [
        "model=Sequential()\n"
      ],
      "metadata": {
        "id": "wUxDLHNtBO28"
      },
      "execution_count": 6,
      "outputs": []
    },
    {
      "cell_type": "code",
      "source": [
        "model.add(Conv2D(32,(3,3), activation='relu',input_shape=input_size))\n",
        "model.add(Conv2D(32,(3,3), activation='relu',input_shape=input_size))\n",
        "model.add(MaxPooling2D(pool_size=pool_size))\n",
        "model.add(Dropout(drop_prob_1))\n",
        "model.add(Conv2D(64,(3,3), activation='relu',input_shape=input_size))\n",
        "model.add(Conv2D(64,(3,3), activation='relu',input_shape=input_size))\n",
        "model.add(MaxPooling2D(pool_size=pool_size))\n",
        "model.add(Dropout(drop_prob_2))\n",
        "model.add(Flatten())\n",
        "model.add(Dense(512, activation='relu'))\n",
        "model.add(Dropout(0.5))\n",
        "model.add(Dense(10, activation='softmax'))\n",
        "\n"
      ],
      "metadata": {
        "id": "zBqCg43UB8LN"
      },
      "execution_count": 7,
      "outputs": []
    },
    {
      "cell_type": "code",
      "source": [
        "model.compile(loss='categorical_crossentropy', optimizer='adam', metrics=(['acc']))"
      ],
      "metadata": {
        "id": "bphSItmPCUSM"
      },
      "execution_count": 8,
      "outputs": []
    },
    {
      "cell_type": "code",
      "source": [
        "history=model.fit(x_train,y_train,\n",
        "                  batch_size=128,\n",
        "                  epochs=15,\n",
        "                  verbose=1,\n",
        "                  validation_data=(x_test,y_test))"
      ],
      "metadata": {
        "colab": {
          "base_uri": "https://localhost:8080/"
        },
        "id": "4gn1vagMEWfA",
        "outputId": "c216f703-7ee3-4aec-8ff6-637cb81724cf"
      },
      "execution_count": 11,
      "outputs": [
        {
          "output_type": "stream",
          "name": "stdout",
          "text": [
            "Epoch 1/15\n",
            "391/391 [==============================] - 191s 488ms/step - loss: 1.1873 - acc: 0.5757 - val_loss: 1.0352 - val_acc: 0.6276\n",
            "Epoch 2/15\n",
            "391/391 [==============================] - 193s 493ms/step - loss: 1.0838 - acc: 0.6153 - val_loss: 0.9447 - val_acc: 0.6600\n",
            "Epoch 3/15\n",
            "391/391 [==============================] - 194s 496ms/step - loss: 1.0134 - acc: 0.6389 - val_loss: 0.8913 - val_acc: 0.6910\n",
            "Epoch 4/15\n",
            "391/391 [==============================] - 184s 470ms/step - loss: 0.9533 - acc: 0.6603 - val_loss: 0.8641 - val_acc: 0.7003\n",
            "Epoch 5/15\n",
            "391/391 [==============================] - 181s 463ms/step - loss: 0.9053 - acc: 0.6792 - val_loss: 0.8191 - val_acc: 0.7128\n",
            "Epoch 6/15\n",
            "391/391 [==============================] - 183s 468ms/step - loss: 0.8606 - acc: 0.6979 - val_loss: 0.7531 - val_acc: 0.7402\n",
            "Epoch 7/15\n",
            "391/391 [==============================] - 182s 465ms/step - loss: 0.8256 - acc: 0.7087 - val_loss: 0.7518 - val_acc: 0.7449\n",
            "Epoch 8/15\n",
            "391/391 [==============================] - 185s 473ms/step - loss: 0.8010 - acc: 0.7173 - val_loss: 0.7855 - val_acc: 0.7283\n",
            "Epoch 9/15\n",
            "391/391 [==============================] - 184s 472ms/step - loss: 0.7775 - acc: 0.7272 - val_loss: 0.7091 - val_acc: 0.7586\n",
            "Epoch 10/15\n",
            "391/391 [==============================] - 182s 466ms/step - loss: 0.7459 - acc: 0.7360 - val_loss: 0.6855 - val_acc: 0.7614\n",
            "Epoch 11/15\n",
            "391/391 [==============================] - 184s 471ms/step - loss: 0.7303 - acc: 0.7424 - val_loss: 0.6699 - val_acc: 0.7708\n",
            "Epoch 12/15\n",
            "391/391 [==============================] - 182s 466ms/step - loss: 0.7170 - acc: 0.7489 - val_loss: 0.6600 - val_acc: 0.7710\n",
            "Epoch 13/15\n",
            "391/391 [==============================] - 186s 475ms/step - loss: 0.7016 - acc: 0.7543 - val_loss: 0.6441 - val_acc: 0.7802\n",
            "Epoch 14/15\n",
            "391/391 [==============================] - 185s 473ms/step - loss: 0.6895 - acc: 0.7563 - val_loss: 0.6320 - val_acc: 0.7865\n",
            "Epoch 15/15\n",
            "391/391 [==============================] - 191s 489ms/step - loss: 0.6791 - acc: 0.7606 - val_loss: 0.6408 - val_acc: 0.7807\n"
          ]
        }
      ]
    },
    {
      "cell_type": "code",
      "source": [
        "score=model.evaluate(x_test,y_test)\n",
        "print(\"test loss :\", score[0])\n",
        "print(\"test accuracy :\" ,score[1])\n"
      ],
      "metadata": {
        "colab": {
          "base_uri": "https://localhost:8080/"
        },
        "id": "k3GDL92sOUd_",
        "outputId": "76f1d61c-01d5-45c8-a6db-adb7be93c253"
      },
      "execution_count": 14,
      "outputs": [
        {
          "output_type": "stream",
          "name": "stdout",
          "text": [
            "313/313 [==============================] - 10s 33ms/step - loss: 0.6408 - acc: 0.7807\n",
            "test loss : 0.6407842040061951\n",
            "test accuracy : 0.7807000279426575\n"
          ]
        }
      ]
    },
    {
      "cell_type": "code",
      "source": [],
      "metadata": {
        "id": "vjESu9T-a5Jg"
      },
      "execution_count": null,
      "outputs": []
    }
  ]
}